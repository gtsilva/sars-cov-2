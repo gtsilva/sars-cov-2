{
 "cells": [
  {
   "cell_type": "code",
   "execution_count": 1,
   "metadata": {},
   "outputs": [
    {
     "data": {
      "application/vnd.jupyter.widget-view+json": {
       "model_id": "9204a540fd9b491cbbba8fb1406efd73",
       "version_major": 2,
       "version_minor": 0
      },
      "text/plain": [
       "_ColormakerRegistry()"
      ]
     },
     "metadata": {},
     "output_type": "display_data"
    }
   ],
   "source": [
    "# Initially with openmm\n",
    "#!/usr/bin/env python3\n",
    "from simtk.openmm.app import *\n",
    "from simtk.openmm import *\n",
    "from simtk.unit import *\n",
    "from sys import stdout\n",
    "import os\n",
    "import sys\n",
    "import argparse\n",
    "import nglview as nv\n",
    "import pytraj as pt\n",
    "import pdbfixer"
   ]
  },
  {
   "cell_type": "markdown",
   "metadata": {},
   "source": [
    "Easiest way to fix downloaded PDB files to be processed by OpenMM is to run pdbfixer from the command line and use the HTML interface that shows up.\n",
    "Easy as pie!\n",
    "Ref: https://htmlpreview.github.io/?https://raw.github.com/pandegroup/pdbfixer/master/Manual.html\n"
   ]
  },
  {
   "cell_type": "code",
   "execution_count": 34,
   "metadata": {},
   "outputs": [
    {
     "name": "stdout",
     "output_type": "stream",
     "text": [
      "<Topology; 8 chains, 166 residues, 2342 atoms, 2316 bonds>\n"
     ]
    }
   ],
   "source": [
    "#pdb= PDBFile('data/6lvn.pdb')\n",
    "pdb = PDBFile('data/6lvn_fixed.pdb')\n",
    "forcefield = ForceField('amber14-all.xml', 'amber14/tip3pfb.xml')\n",
    "modeller = Modeller(pdb.topology, pdb.positions)\n",
    "modeller.addHydrogens(forcefield)\n",
    "print(modeller.topology)"
   ]
  },
  {
   "cell_type": "code",
   "execution_count": 8,
   "metadata": {},
   "outputs": [
    {
     "ename": "TypeError",
     "evalue": "findPlatform() missing 1 required positional argument: 'kernelNames'",
     "output_type": "error",
     "traceback": [
      "\u001b[0;31m---------------------------------------------------------------------------\u001b[0m",
      "\u001b[0;31mTypeError\u001b[0m                                 Traceback (most recent call last)",
      "\u001b[0;32m<ipython-input-8-c879326795d6>\u001b[0m in \u001b[0;36m<module>\u001b[0;34m\u001b[0m\n\u001b[0;32m----> 1\u001b[0;31m \u001b[0mplatform\u001b[0m \u001b[0;34m=\u001b[0m \u001b[0mPlatform\u001b[0m\u001b[0;34m.\u001b[0m\u001b[0mfindPlatform\u001b[0m\u001b[0;34m(\u001b[0m\u001b[0;34m)\u001b[0m\u001b[0;34m\u001b[0m\u001b[0;34m\u001b[0m\u001b[0m\n\u001b[0m",
      "\u001b[0;31mTypeError\u001b[0m: findPlatform() missing 1 required positional argument: 'kernelNames'"
     ]
    }
   ],
   "source": [
    "platform = Platform.findPlatform()"
   ]
  },
  {
   "cell_type": "code",
   "execution_count": 18,
   "metadata": {
    "code_folding": []
   },
   "outputs": [],
   "source": [
    "# from https://www.ncbi.nlm.nih.gov/protein/QHD43417/\n",
    "pdb= PDBFile('data/QHD43417.pdb')\n",
    "forcefield = ForceField('amber03.xml', 'amber03_obc.xml')\n",
    "modeller = Modeller(pdb.topology, pdb.positions)\n",
    "#modeller.addHydrogens(forcefield)\n",
    "#print(modeller.topology)"
   ]
  },
  {
   "cell_type": "code",
   "execution_count": 10,
   "metadata": {},
   "outputs": [
    {
     "name": "stdout",
     "output_type": "stream",
     "text": [
      "<Topology; 1 chains, 36 residues, 596 atoms, 602 bonds>\n"
     ]
    }
   ],
   "source": [
    "# from https://www.rcsb.org/structure/1vii\n",
    "pdb2 = PDBFile('data/1vii.pdb')\n",
    "\n",
    "forcefield = ForceField('amber14-all.xml', 'amber14/tip3pfb.xml')\n",
    "#forcefield = ForceField('amber03.xml', 'amber03_obc.xml')\n",
    "modeller = Modeller(pdb2.topology, pdb2.positions)\n",
    "modeller.addHydrogens(forcefield)\n",
    "print(modeller.topology)"
   ]
  },
  {
   "cell_type": "code",
   "execution_count": 28,
   "metadata": {},
   "outputs": [
    {
     "name": "stdout",
     "output_type": "stream",
     "text": [
      "<Topology; 1 chains, 125 residues, 1826 atoms, 1842 bonds>\n"
     ]
    }
   ],
   "source": [
    "# from https://www.rcsb.org/structure/1vii\n",
    "pdb2 = PDBFile('data/2prf.pdb')\n",
    "\n",
    "forcefield = ForceField('amber14-all.xml', 'amber14/tip3pfb.xml')\n",
    "#forcefield = ForceField('amber03.xml', 'amber03_obc.xml')\n",
    "modeller = Modeller(pdb2.topology, pdb2.positions)\n",
    "modeller.addHydrogens(forcefield)\n",
    "print(modeller.topology)"
   ]
  },
  {
   "cell_type": "code",
   "execution_count": 22,
   "metadata": {},
   "outputs": [],
   "source": []
  },
  {
   "cell_type": "code",
   "execution_count": null,
   "metadata": {
    "code_folding": []
   },
   "outputs": [
    {
     "name": "stdout",
     "output_type": "stream",
     "text": [
      "writing every 100 steps\n",
      "#\"Step\",\"Potential Energy (kJ/mole)\",\"Temperature (K)\"\n",
      "1000,-9644.40020582318,270.0506294986803\n",
      "2000,-8680.520795637349,296.1787257108011\n",
      "3000,-9097.036088179564,304.7337254578176\n",
      "4000,-8954.231014715442,301.8824781533834\n",
      "5000,-9346.255330631637,297.89822392555806\n",
      "6000,-9357.570242687116,296.46932742231485\n",
      "7000,-9675.009728839988,301.9894399042805\n",
      "8000,-9703.878662353678,302.96458276900637\n",
      "9000,-9616.550062142593,305.0325355038976\n",
      "10000,-9884.111369013935,305.2985066260844\n",
      "11000,-9566.876458314979,303.2917890009863\n",
      "12000,-9662.805238462446,295.6221499845513\n",
      "13000,-9486.264810641647,298.9411822912113\n",
      "14000,-9865.326300558943,300.5836706081506\n",
      "15000,-9594.967312642337,305.2221492046354\n",
      "16000,-9649.80303714579,299.3665647701112\n",
      "17000,-9940.932724086933,301.43139805947516\n"
     ]
    }
   ],
   "source": [
    "system = forcefield.createSystem(modeller.topology,\n",
    "  implicitSolvent=OBC2,   # matches https://www.ncbi.nlm.nih.gov/pmc/articles/PMC2980750/#bib39\n",
    "  nonbondedMethod=NoCutoff, nonbondedCutoff=1*nanometer,\n",
    "  constraints=HBonds)\n",
    "integrator = LangevinIntegrator(300*kelvin, 1/picosecond, 2*femtoseconds)\n",
    "simulation = Simulation(modeller.topology, system, integrator)\n",
    "simulation.context.setPositions(modeller.positions)\n",
    "simulation.minimizeEnergy()\n",
    "\n",
    "steps = 100000\n",
    "steps_write = max(1, steps//1000)\n",
    "print(\"writing every %d steps\" % steps_write)\n",
    "simulation.reporters.append(PDBReporter('output.pdb', 1000))\n",
    "simulation.reporters.append(StateDataReporter(stdout, 1000, step=True,potentialEnergy=True, temperature=True))\n",
    "simulation.step(steps)"
   ]
  },
  {
   "cell_type": "code",
   "execution_count": 5,
   "metadata": {},
   "outputs": [
    {
     "data": {
      "application/vnd.jupyter.widget-view+json": {
       "model_id": "294448e698ad41d2a1bd7fbf98e60b20",
       "version_major": 2,
       "version_minor": 0
      },
      "text/plain": [
       "NGLWidget(max_frame=999)"
      ]
     },
     "metadata": {},
     "output_type": "display_data"
    }
   ],
   "source": [
    "traj = pt.load('/tmp/output.pdb')\n",
    "view = nv.show_pytraj(traj)\n",
    "view"
   ]
  },
  {
   "cell_type": "code",
   "execution_count": null,
   "metadata": {},
   "outputs": [],
   "source": []
  },
  {
   "cell_type": "code",
   "execution_count": null,
   "metadata": {},
   "outputs": [],
   "source": []
  }
 ],
 "metadata": {
  "kernelspec": {
   "display_name": "Python 3",
   "language": "python",
   "name": "python3"
  },
  "language_info": {
   "codemirror_mode": {
    "name": "ipython",
    "version": 3
   },
   "file_extension": ".py",
   "mimetype": "text/x-python",
   "name": "python",
   "nbconvert_exporter": "python",
   "pygments_lexer": "ipython3",
   "version": "3.7.4"
  },
  "toc": {
   "base_numbering": 1,
   "nav_menu": {},
   "number_sections": true,
   "sideBar": true,
   "skip_h1_title": false,
   "title_cell": "Table of Contents",
   "title_sidebar": "Contents",
   "toc_cell": false,
   "toc_position": {},
   "toc_section_display": true,
   "toc_window_display": false
  },
  "varInspector": {
   "cols": {
    "lenName": 16,
    "lenType": 16,
    "lenVar": 40
   },
   "kernels_config": {
    "python": {
     "delete_cmd_postfix": "",
     "delete_cmd_prefix": "del ",
     "library": "var_list.py",
     "varRefreshCmd": "print(var_dic_list())"
    },
    "r": {
     "delete_cmd_postfix": ") ",
     "delete_cmd_prefix": "rm(",
     "library": "var_list.r",
     "varRefreshCmd": "cat(var_dic_list()) "
    }
   },
   "types_to_exclude": [
    "module",
    "function",
    "builtin_function_or_method",
    "instance",
    "_Feature"
   ],
   "window_display": false
  }
 },
 "nbformat": 4,
 "nbformat_minor": 4
}
